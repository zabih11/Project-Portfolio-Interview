{
 "cells": [
  {
   "cell_type": "code",
   "execution_count": 1,
   "id": "e5b4225c-e851-408d-b6da-2cb72df984d6",
   "metadata": {
    "scrolled": true
   },
   "outputs": [
    {
     "name": "stdout",
     "output_type": "stream",
     "text": [
      "Requirement already satisfied: torch in c:\\users\\arlen\\anaconda3\\envs\\daps\\lib\\site-packages (2.1.0+cu121)\n",
      "Requirement already satisfied: torchvision in c:\\users\\arlen\\anaconda3\\envs\\daps\\lib\\site-packages (0.16.0)\n",
      "Requirement already satisfied: torchaudio in c:\\users\\arlen\\anaconda3\\envs\\daps\\lib\\site-packages (2.1.0+cu121)\n",
      "Requirement already satisfied: filelock in c:\\users\\arlen\\anaconda3\\envs\\daps\\lib\\site-packages (from torch) (3.13.1)\n",
      "Requirement already satisfied: typing-extensions in c:\\users\\arlen\\anaconda3\\envs\\daps\\lib\\site-packages (from torch) (4.8.0)\n",
      "Requirement already satisfied: sympy in c:\\users\\arlen\\anaconda3\\envs\\daps\\lib\\site-packages (from torch) (1.12)\n",
      "Requirement already satisfied: networkx in c:\\users\\arlen\\anaconda3\\envs\\daps\\lib\\site-packages (from torch) (3.2.1)\n",
      "Requirement already satisfied: jinja2 in c:\\users\\arlen\\anaconda3\\envs\\daps\\lib\\site-packages (from torch) (3.1.2)\n",
      "Requirement already satisfied: fsspec in c:\\users\\arlen\\anaconda3\\envs\\daps\\lib\\site-packages (from torch) (2023.10.0)\n",
      "Requirement already satisfied: numpy in c:\\users\\arlen\\anaconda3\\envs\\daps\\lib\\site-packages (from torchvision) (1.26.0)\n",
      "Requirement already satisfied: requests in c:\\users\\arlen\\anaconda3\\envs\\daps\\lib\\site-packages (from torchvision) (2.31.0)\n",
      "Requirement already satisfied: pillow!=8.3.*,>=5.3.0 in c:\\users\\arlen\\anaconda3\\envs\\daps\\lib\\site-packages (from torchvision) (10.0.1)\n",
      "Requirement already satisfied: MarkupSafe>=2.0 in c:\\users\\arlen\\anaconda3\\envs\\daps\\lib\\site-packages (from jinja2->torch) (2.1.3)\n",
      "Requirement already satisfied: charset-normalizer<4,>=2 in c:\\users\\arlen\\anaconda3\\envs\\daps\\lib\\site-packages (from requests->torchvision) (3.3.0)\n",
      "Requirement already satisfied: idna<4,>=2.5 in c:\\users\\arlen\\anaconda3\\envs\\daps\\lib\\site-packages (from requests->torchvision) (3.4)\n",
      "Requirement already satisfied: urllib3<3,>=1.21.1 in c:\\users\\arlen\\anaconda3\\envs\\daps\\lib\\site-packages (from requests->torchvision) (2.0.6)\n",
      "Requirement already satisfied: certifi>=2017.4.17 in c:\\users\\arlen\\anaconda3\\envs\\daps\\lib\\site-packages (from requests->torchvision) (2023.7.22)\n",
      "Requirement already satisfied: mpmath>=0.19 in c:\\users\\arlen\\anaconda3\\envs\\daps\\lib\\site-packages (from sympy->torch) (1.3.0)\n"
     ]
    },
    {
     "name": "stderr",
     "output_type": "stream",
     "text": [
      "fatal: destination path 'yolov5' already exists and is not an empty directory.\n"
     ]
    },
    {
     "name": "stdout",
     "output_type": "stream",
     "text": [
      "Requirement already satisfied: gitpython>=3.1.30 in c:\\users\\arlen\\anaconda3\\envs\\daps\\lib\\site-packages (from -r requirements.txt (line 5)) (3.1.40)\n",
      "Requirement already satisfied: matplotlib>=3.3 in c:\\users\\arlen\\anaconda3\\envs\\daps\\lib\\site-packages (from -r requirements.txt (line 6)) (3.8.0)\n",
      "Requirement already satisfied: numpy>=1.22.2 in c:\\users\\arlen\\anaconda3\\envs\\daps\\lib\\site-packages (from -r requirements.txt (line 7)) (1.26.0)\n",
      "Requirement already satisfied: opencv-python>=4.1.1 in c:\\users\\arlen\\anaconda3\\envs\\daps\\lib\\site-packages (from -r requirements.txt (line 8)) (4.8.1.78)\n",
      "Requirement already satisfied: Pillow>=10.0.1 in c:\\users\\arlen\\anaconda3\\envs\\daps\\lib\\site-packages (from -r requirements.txt (line 9)) (10.0.1)\n",
      "Requirement already satisfied: psutil in c:\\users\\arlen\\anaconda3\\envs\\daps\\lib\\site-packages (from -r requirements.txt (line 10)) (5.9.5)\n",
      "Requirement already satisfied: PyYAML>=5.3.1 in c:\\users\\arlen\\anaconda3\\envs\\daps\\lib\\site-packages (from -r requirements.txt (line 11)) (6.0.1)\n",
      "Requirement already satisfied: requests>=2.23.0 in c:\\users\\arlen\\anaconda3\\envs\\daps\\lib\\site-packages (from -r requirements.txt (line 12)) (2.31.0)\n",
      "Requirement already satisfied: scipy>=1.4.1 in c:\\users\\arlen\\anaconda3\\envs\\daps\\lib\\site-packages (from -r requirements.txt (line 13)) (1.11.3)\n",
      "Requirement already satisfied: thop>=0.1.1 in c:\\users\\arlen\\anaconda3\\envs\\daps\\lib\\site-packages (from -r requirements.txt (line 14)) (0.1.1.post2209072238)\n",
      "Requirement already satisfied: torch>=1.8.0 in c:\\users\\arlen\\anaconda3\\envs\\daps\\lib\\site-packages (from -r requirements.txt (line 15)) (2.1.0+cu121)\n",
      "Requirement already satisfied: torchvision>=0.9.0 in c:\\users\\arlen\\anaconda3\\envs\\daps\\lib\\site-packages (from -r requirements.txt (line 16)) (0.16.0)\n",
      "Requirement already satisfied: tqdm>=4.64.0 in c:\\users\\arlen\\anaconda3\\envs\\daps\\lib\\site-packages (from -r requirements.txt (line 17)) (4.66.1)\n",
      "Requirement already satisfied: ultralytics>=8.0.147 in c:\\users\\arlen\\anaconda3\\envs\\daps\\lib\\site-packages (from -r requirements.txt (line 18)) (8.1.8)\n",
      "Requirement already satisfied: pandas>=1.1.4 in c:\\users\\arlen\\anaconda3\\envs\\daps\\lib\\site-packages (from -r requirements.txt (line 27)) (2.1.1)\n",
      "Requirement already satisfied: seaborn>=0.11.0 in c:\\users\\arlen\\anaconda3\\envs\\daps\\lib\\site-packages (from -r requirements.txt (line 28)) (0.13.0)\n",
      "Requirement already satisfied: setuptools>=65.5.1 in c:\\users\\arlen\\anaconda3\\envs\\daps\\lib\\site-packages (from -r requirements.txt (line 42)) (68.0.0)\n",
      "Requirement already satisfied: gitdb<5,>=4.0.1 in c:\\users\\arlen\\anaconda3\\envs\\daps\\lib\\site-packages (from gitpython>=3.1.30->-r requirements.txt (line 5)) (4.0.11)\n",
      "Requirement already satisfied: contourpy>=1.0.1 in c:\\users\\arlen\\anaconda3\\envs\\daps\\lib\\site-packages (from matplotlib>=3.3->-r requirements.txt (line 6)) (1.0.5)\n",
      "Requirement already satisfied: cycler>=0.10 in c:\\users\\arlen\\anaconda3\\envs\\daps\\lib\\site-packages (from matplotlib>=3.3->-r requirements.txt (line 6)) (0.11.0)\n",
      "Requirement already satisfied: fonttools>=4.22.0 in c:\\users\\arlen\\anaconda3\\envs\\daps\\lib\\site-packages (from matplotlib>=3.3->-r requirements.txt (line 6)) (4.25.0)\n",
      "Requirement already satisfied: kiwisolver>=1.0.1 in c:\\users\\arlen\\anaconda3\\envs\\daps\\lib\\site-packages (from matplotlib>=3.3->-r requirements.txt (line 6)) (1.4.4)\n",
      "Requirement already satisfied: packaging>=20.0 in c:\\users\\arlen\\anaconda3\\envs\\daps\\lib\\site-packages (from matplotlib>=3.3->-r requirements.txt (line 6)) (23.1)\n",
      "Requirement already satisfied: pyparsing>=2.3.1 in c:\\users\\arlen\\anaconda3\\envs\\daps\\lib\\site-packages (from matplotlib>=3.3->-r requirements.txt (line 6)) (3.0.9)\n",
      "Requirement already satisfied: python-dateutil>=2.7 in c:\\users\\arlen\\anaconda3\\envs\\daps\\lib\\site-packages (from matplotlib>=3.3->-r requirements.txt (line 6)) (2.8.2)\n",
      "Requirement already satisfied: charset-normalizer<4,>=2 in c:\\users\\arlen\\anaconda3\\envs\\daps\\lib\\site-packages (from requests>=2.23.0->-r requirements.txt (line 12)) (3.3.0)\n",
      "Requirement already satisfied: idna<4,>=2.5 in c:\\users\\arlen\\anaconda3\\envs\\daps\\lib\\site-packages (from requests>=2.23.0->-r requirements.txt (line 12)) (3.4)\n",
      "Requirement already satisfied: urllib3<3,>=1.21.1 in c:\\users\\arlen\\anaconda3\\envs\\daps\\lib\\site-packages (from requests>=2.23.0->-r requirements.txt (line 12)) (2.0.6)\n",
      "Requirement already satisfied: certifi>=2017.4.17 in c:\\users\\arlen\\anaconda3\\envs\\daps\\lib\\site-packages (from requests>=2.23.0->-r requirements.txt (line 12)) (2023.7.22)\n",
      "Requirement already satisfied: filelock in c:\\users\\arlen\\anaconda3\\envs\\daps\\lib\\site-packages (from torch>=1.8.0->-r requirements.txt (line 15)) (3.13.1)\n",
      "Requirement already satisfied: typing-extensions in c:\\users\\arlen\\anaconda3\\envs\\daps\\lib\\site-packages (from torch>=1.8.0->-r requirements.txt (line 15)) (4.8.0)\n",
      "Requirement already satisfied: sympy in c:\\users\\arlen\\anaconda3\\envs\\daps\\lib\\site-packages (from torch>=1.8.0->-r requirements.txt (line 15)) (1.12)\n",
      "Requirement already satisfied: networkx in c:\\users\\arlen\\anaconda3\\envs\\daps\\lib\\site-packages (from torch>=1.8.0->-r requirements.txt (line 15)) (3.2.1)\n",
      "Requirement already satisfied: jinja2 in c:\\users\\arlen\\anaconda3\\envs\\daps\\lib\\site-packages (from torch>=1.8.0->-r requirements.txt (line 15)) (3.1.2)\n",
      "Requirement already satisfied: fsspec in c:\\users\\arlen\\anaconda3\\envs\\daps\\lib\\site-packages (from torch>=1.8.0->-r requirements.txt (line 15)) (2023.10.0)\n",
      "Requirement already satisfied: colorama in c:\\users\\arlen\\anaconda3\\envs\\daps\\lib\\site-packages (from tqdm>=4.64.0->-r requirements.txt (line 17)) (0.4.6)\n",
      "Requirement already satisfied: py-cpuinfo in c:\\users\\arlen\\anaconda3\\envs\\daps\\lib\\site-packages (from ultralytics>=8.0.147->-r requirements.txt (line 18)) (9.0.0)\n",
      "Requirement already satisfied: pytz>=2020.1 in c:\\users\\arlen\\anaconda3\\envs\\daps\\lib\\site-packages (from pandas>=1.1.4->-r requirements.txt (line 27)) (2023.3.post1)\n",
      "Requirement already satisfied: tzdata>=2022.1 in c:\\users\\arlen\\anaconda3\\envs\\daps\\lib\\site-packages (from pandas>=1.1.4->-r requirements.txt (line 27)) (2023.3)\n",
      "Requirement already satisfied: smmap<6,>=3.0.1 in c:\\users\\arlen\\anaconda3\\envs\\daps\\lib\\site-packages (from gitdb<5,>=4.0.1->gitpython>=3.1.30->-r requirements.txt (line 5)) (5.0.1)\n",
      "Requirement already satisfied: six>=1.5 in c:\\users\\arlen\\anaconda3\\envs\\daps\\lib\\site-packages (from python-dateutil>=2.7->matplotlib>=3.3->-r requirements.txt (line 6)) (1.16.0)\n",
      "Requirement already satisfied: MarkupSafe>=2.0 in c:\\users\\arlen\\anaconda3\\envs\\daps\\lib\\site-packages (from jinja2->torch>=1.8.0->-r requirements.txt (line 15)) (2.1.3)\n",
      "Requirement already satisfied: mpmath>=0.19 in c:\\users\\arlen\\anaconda3\\envs\\daps\\lib\\site-packages (from sympy->torch>=1.8.0->-r requirements.txt (line 15)) (1.3.0)\n"
     ]
    },
    {
     "name": "stderr",
     "output_type": "stream",
     "text": [
      "fatal: destination path 'labelImg' already exists and is not an empty directory.\n"
     ]
    },
    {
     "name": "stdout",
     "output_type": "stream",
     "text": [
      "Requirement already satisfied: pyqt5 in c:\\users\\arlen\\anaconda3\\envs\\daps\\lib\\site-packages (5.15.10)\n",
      "Requirement already satisfied: lxml in c:\\users\\arlen\\anaconda3\\envs\\daps\\lib\\site-packages (5.1.0)\n",
      "Collecting lxml\n",
      "  Obtaining dependency information for lxml from https://files.pythonhosted.org/packages/df/c5/8b05e69685b48cf11b596fbdd466f76cb3c1e3efe0361d8be0edb9df0325/lxml-5.2.1-cp311-cp311-win_amd64.whl.metadata\n",
      "  Downloading lxml-5.2.1-cp311-cp311-win_amd64.whl.metadata (3.5 kB)\n",
      "Requirement already satisfied: PyQt5-sip<13,>=12.13 in c:\\users\\arlen\\anaconda3\\envs\\daps\\lib\\site-packages (from pyqt5) (12.13.0)\n",
      "Downloading lxml-5.2.1-cp311-cp311-win_amd64.whl (3.8 MB)\n",
      "   ---------------------------------------- 0.0/3.8 MB ? eta -:--:--\n",
      "   -- ------------------------------------- 0.2/3.8 MB 6.3 MB/s eta 0:00:01\n",
      "   ---- ----------------------------------- 0.5/3.8 MB 5.9 MB/s eta 0:00:01\n",
      "   -------- ------------------------------- 0.8/3.8 MB 6.1 MB/s eta 0:00:01\n",
      "   ------------ --------------------------- 1.2/3.8 MB 6.8 MB/s eta 0:00:01\n",
      "   ---------------- ----------------------- 1.6/3.8 MB 7.4 MB/s eta 0:00:01\n",
      "   --------------------- ------------------ 2.0/3.8 MB 7.7 MB/s eta 0:00:01\n",
      "   ------------------------- -------------- 2.5/3.8 MB 7.9 MB/s eta 0:00:01\n",
      "   ------------------------------ --------- 2.9/3.8 MB 8.1 MB/s eta 0:00:01\n",
      "   ----------------------------------- ---- 3.4/3.8 MB 8.2 MB/s eta 0:00:01\n",
      "   ---------------------------------------  3.8/3.8 MB 8.3 MB/s eta 0:00:01\n",
      "   ---------------------------------------- 3.8/3.8 MB 8.1 MB/s eta 0:00:00\n",
      "Installing collected packages: lxml\n",
      "  Attempting uninstall: lxml\n",
      "    Found existing installation: lxml 5.1.0\n",
      "    Uninstalling lxml-5.1.0:\n",
      "      Successfully uninstalled lxml-5.1.0\n",
      "Successfully installed lxml-5.2.1\n"
     ]
    }
   ],
   "source": [
    "!pip install torch torchvision torchaudio\n",
    "!git clone https://github.com/ultralytics/yolov5\n",
    "!cd yolov5 & pip install -r requirements.txt\n",
    "!git clone https://github.com/tzutalin/labelImg\n",
    "!pip install pyqt5 lxml --upgrade\n",
    "!cd labelImg && pyrcc5 -o libs/resources.py resources.qrc"
   ]
  },
  {
   "cell_type": "code",
   "execution_count": 2,
   "id": "fe1d346a-e63e-42cc-acb6-1dd434701c7c",
   "metadata": {},
   "outputs": [
    {
     "name": "stderr",
     "output_type": "stream",
     "text": [
      "Using cache found in C:\\Users\\arlen/.cache\\torch\\hub\\ultralytics_yolov5_master\n",
      "YOLOv5  2024-3-19 Python-3.11.0 torch-2.1.0+cu121 CPU\n",
      "\n",
      "Fusing layers... \n",
      "YOLOv5s summary: 213 layers, 7225885 parameters, 0 gradients, 16.4 GFLOPs\n",
      "Adding AutoShape... \n",
      "\u001b[34m\u001b[1mtrain: \u001b[0mweights=yolov5s.pt, cfg=, data=dataset.yml, hyp=data\\hyps\\hyp.scratch-low.yaml, epochs=300, batch_size=16, imgsz=320, rect=False, resume=False, nosave=False, noval=False, noautoanchor=False, noplots=False, evolve=None, bucket=, cache=None, image_weights=False, device=, multi_scale=False, single_cls=False, optimizer=SGD, sync_bn=False, workers=8, project=runs\\train, name=exp, exist_ok=False, quad=False, cos_lr=False, label_smoothing=0.0, patience=100, freeze=[0], save_period=-1, seed=0, local_rank=-1, entity=None, upload_dataset=False, bbox_interval=-1, artifact_alias=latest\n",
      "From https://github.com/ultralytics/yolov5\n",
      "   3f02fdee..d07d0cf6  master               -> origin/master\n",
      " * [new branch]        glenn-jocher-patch-1 -> origin/glenn-jocher-patch-1\n",
      " * [new branch]        snyk-fix-9da5a0b0c0b87053afe81cdcfb84dde5 -> origin/snyk-fix-9da5a0b0c0b87053afe81cdcfb84dde5\n",
      "\u001b[34m\u001b[1mgithub: \u001b[0m YOLOv5 is out of date by 50 commits. Use 'git pull' or 'git clone https://github.com/ultralytics/yolov5' to update.\n",
      "Traceback (most recent call last):\n",
      "  File \"c:\\Users\\arlen\\OneDrive - University College London\\Documents\\Year 4\\Project\\Object Recognition\\yolov5\\train.py\", line 648, in <module>\n",
      "    main(opt)\n",
      "  File \"c:\\Users\\arlen\\OneDrive - University College London\\Documents\\Year 4\\Project\\Object Recognition\\yolov5\\train.py\", line 511, in main\n",
      "    check_file(opt.data), check_yaml(opt.cfg), check_yaml(opt.hyp), str(opt.weights), str(opt.project)  # checks\n",
      "    ^^^^^^^^^^^^^^^^^^^^\n",
      "  File \"c:\\Users\\arlen\\OneDrive - University College London\\Documents\\Year 4\\Project\\Object Recognition\\yolov5\\utils\\general.py\", line 468, in check_file\n",
      "    assert len(files), f'File not found: {file}'  # assert file was found\n",
      "    ^^^^^^^^^^^^^^^^^^^^^^^^^^^^^^^^^^^^^^^^^^^^\n",
      "AssertionError: File not found: dataset.yml\n",
      "Downloading: \"https://github.com/ultralytics/yolov5/zipball/master\" to C:\\Users\\arlen/.cache\\torch\\hub\\master.zip\n"
     ]
    },
    {
     "name": "stdout",
     "output_type": "stream",
     "text": [
      "\u001b[31m\u001b[1mrequirements:\u001b[0m Ultralytics requirement ['pillow>=10.3.0'] not found, attempting AutoUpdate...\n",
      "Collecting pillow>=10.3.0\n",
      "  Obtaining dependency information for pillow>=10.3.0 from https://files.pythonhosted.org/packages/0a/16/c83877524c47976f16703d2e05c363244bc1e60ab439e078b3cd046d07db/pillow-10.3.0-cp311-cp311-win_amd64.whl.metadata\n",
      "  Downloading pillow-10.3.0-cp311-cp311-win_amd64.whl.metadata (9.4 kB)\n",
      "Downloading pillow-10.3.0-cp311-cp311-win_amd64.whl (2.5 MB)\n",
      "   ---------------------------------------- 2.5/2.5 MB 8.9 MB/s eta 0:00:00\n",
      "Installing collected packages: pillow\n",
      "  Attempting uninstall: pillow\n",
      "    Found existing installation: Pillow 10.0.1\n",
      "    Uninstalling Pillow-10.0.1:\n",
      "      Successfully uninstalled Pillow-10.0.1\n",
      "Successfully installed pillow-10.3.0\n",
      "\n",
      "\u001b[31m\u001b[1mrequirements:\u001b[0m AutoUpdate success ✅ 7.5s, installed 1 package: ['pillow>=10.3.0']\n",
      "\u001b[31m\u001b[1mrequirements:\u001b[0m ⚠️ \u001b[1mRestart runtime or rerun command for updates to take effect\u001b[0m\n",
      "\n"
     ]
    },
    {
     "name": "stderr",
     "output_type": "stream",
     "text": [
      "YOLOv5  2024-4-10 Python-3.11.0 torch-2.1.0+cu121 CPU\n",
      "\n",
      "Fusing layers... \n",
      "Model summary: 157 layers, 7047883 parameters, 0 gradients, 15.9 GFLOPs\n",
      "Adding AutoShape... \n"
     ]
    }
   ],
   "source": [
    "import torch\n",
    "import numpy as np\n",
    "import cv2\n",
    "\n",
    "model = torch.hub.load('ultralytics/yolov5', 'yolov5s')\n",
    "!cd yolov5 && python train.py --img 320 --batch 16 --epochs 400 --data dataset.yml --weights yolov5s.pt --workers 8\n",
    "model = torch.hub.load('ultralytics/yolov5', 'custom', path='yolov5/runs/train/exp2/weights/best.pt', force_reload=True) #depends on the exp number\n",
    "\n",
    "cap = cv2.VideoCapture(0)\n",
    "while cap.isOpened():\n",
    "    ret, frame = cap.read()\n",
    "\n",
    "    # Make detections \n",
    "    results = model(frame)\n",
    "    \n",
    "    cv2.imshow('YOLO', np.squeeze(results.render()))\n",
    "    \n",
    "    if cv2.waitKey(10) & 0xFF == ord('q'):\n",
    "        break\n",
    "cap.release()\n",
    "cv2.destroyAllWindows()"
   ]
  },
  {
   "cell_type": "code",
   "execution_count": null,
   "id": "4846c2c1",
   "metadata": {},
   "outputs": [],
   "source": []
  }
 ],
 "metadata": {
  "kernelspec": {
   "display_name": "Python 3 (ipykernel)",
   "language": "python",
   "name": "python3"
  },
  "language_info": {
   "codemirror_mode": {
    "name": "ipython",
    "version": 3
   },
   "file_extension": ".py",
   "mimetype": "text/x-python",
   "name": "python",
   "nbconvert_exporter": "python",
   "pygments_lexer": "ipython3",
   "version": "3.11.0"
  }
 },
 "nbformat": 4,
 "nbformat_minor": 5
}
